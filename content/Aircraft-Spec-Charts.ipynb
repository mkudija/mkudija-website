{
 "cells": [
  {
   "cell_type": "code",
   "execution_count": 1,
   "metadata": {
    "collapsed": false
   },
   "outputs": [
    {
     "data": {
      "text/plain": [
       "dict_keys(['172SP', 'Citation III', 'Turbo Arrow III', 'Challenger 601', 'Falcon 200', 'Hawker 800', 'SR22', 'T182T', 'B36 Bonanza', 'HondaJet', 'DA42'])"
      ]
     },
     "execution_count": 1,
     "metadata": {},
     "output_type": "execute_result"
    }
   ],
   "source": [
    "%matplotlib inline\n",
    "import matplotlib.pyplot as plt\n",
    "from matplotlib.offsetbox import AnnotationBbox, OffsetImage\n",
    "from matplotlib._png import read_png\n",
    "import pandas as pd\n",
    "import numpy as np\n",
    "import os\n",
    "\n",
    "cwd = os.getcwd()\n",
    " \n",
    "data_raw = pd.read_excel('specs_airplane.xlsx', index_col='Type').to_dict()\n",
    "data_raw.keys()"
   ]
  },
  {
   "cell_type": "code",
   "execution_count": 2,
   "metadata": {
    "collapsed": false
   },
   "outputs": [
    {
     "data": {
      "image/png": "[encoded data removed]",
      "text/plain": [
       "<matplotlib.figure.Figure at 0x111633668>"
      ]
     },
     "metadata": {},
     "output_type": "display_data"
    }
   ],
   "source": [
    "def plot_bar_comparison(names, ac_idx, colors, plt_name):\n",
    "    '''\n",
    "    names - list; each entry is a string with the aircraft name\n",
    "    ac_idx - position in 'names' for the desired aircraft to highlight\n",
    "    colors - list of hex color strings\n",
    "    plt_name - string\n",
    "    '''\n",
    "    # configure axes\n",
    "    fig = plt.gcf()\n",
    "    fig.clf()\n",
    "    ax = plt.subplot(111)\n",
    "    ax.spines['right'].set_visible(False) # below lines remove top/right axes\n",
    "    ax.spines['top'].set_visible(False)\n",
    "    ax.yaxis.set_ticks_position('left')\n",
    "    ax.xaxis.set_ticks_position('bottom')\n",
    " \n",
    "   # plot bars\n",
    "    y_pos = np.arange(len(names))\n",
    "    plt.barh(y_pos, data, align='center', alpha=.95, color=colors)\n",
    "    plt.yticks(y_pos, names, size='11')\n",
    "    plt.xticks(size='11')\n",
    " \n",
    "    plt.xlabel(plt_name, size='larger')\n",
    " \n",
    "    # weight plots include empty and max gross\n",
    "    if plt_name == 'Max Gross, kg':\n",
    "        plt.barh(y_pos, empty, align='center', alpha=1, color='white',edgecolor='white')\n",
    "        plt.xlabel('Empty Weight & Max Gross, kg')\n",
    " \n",
    "    # function to plot aircraft images at the end of each corresponding bar\n",
    "    def plot_ac(x, y, path, zoom):\n",
    "        arr_hand = read_png(path)\n",
    "        imagebox = OffsetImage(arr_hand, zoom=zoom)\n",
    "        xy = [x, y]\n",
    "        ab = AnnotationBbox(imagebox, xy, xybox=(-40, 0), xycoords='data', boxcoords=\"offset points\", frameon=False)\n",
    "        ax.add_artist(ab)\n",
    " \n",
    "    # loop over aircraft and call plot_ac function\n",
    "    zoom = .5  # .5 for jets, .9 for props\n",
    "    item = 0\n",
    "    for name in names:\n",
    "        #path = (cwd + 'views\\\\' + name + '.png') # for windows environments\n",
    "        path = (cwd + '/views/' + name + '.png') # for mac environments\n",
    "        x = data[item]\n",
    "        y = y_pos[item]\n",
    "        plot_ac(x, y, path, zoom)\n",
    "        if x < 50: # round to 2 places if < 50; 0 places if greater\n",
    "            plt.text(x*1.01, y, '{0:,}'.format((round(x,1))),family='monospace',va='center',rotation=-90) # add text data label\n",
    "        else:\n",
    "            plt.text(x*1.01, y, '{0:,}'.format((int(x))),family='monospace',va='center',rotation=-90) # add text data label\n",
    "        if plt_name == 'Max Gross, kg':\n",
    "            plt.text(empty[item]-x*.065, y, '{0:,}'.format((int(empty[item]))),family='monospace',va='center',rotation=-90) # add empty weight text data label\n",
    "        item+=1\n",
    " \n",
    "    # save & show plot\n",
    "    plt.draw()\n",
    "    #plt.savefig(cwd + '\\\\charts\\\\' + names[ac_idx] + '-' + plt_name.replace(\"/\",\"-\") + '.png', dpi=150) # for windows environments\n",
    "    plt.savefig(cwd + '/charts/' + names[ac_idx] + '-' + plt_name.replace(\"/\",\"-\") + '.png', dpi=150) # for mac environments\n",
    "    #plt.show()\n",
    " \n",
    "# USER INPUTS--------------------------------------------\n",
    "category = 'Jet'\n",
    "plt_names = ['Cruise Speed, kts','Service Ceiling, m','Range, nm','Max Gross, kg']\n",
    " \n",
    "color_highlight = '#2e5fac'\n",
    "color_background = '#b1b2b4'\n",
    "# -------------------------------------------------------\n",
    " \n",
    "# speicify types by category\n",
    "if category=='Prop':\n",
    "    names  = ['172SP', 'Turbo Arrow III', 'T182T', 'SR22', 'B36 Bonanza', 'DA42']\n",
    "elif category == 'Jet':\n",
    "    names = ['HondaJet','Citation III', 'Hawker 800', 'Falcon 200', 'Challenger 601']\n",
    "else:\n",
    "    names = ['172SP', 'Turbo Arrow III', 'T182T', 'SR22', 'B36 Bonanza', 'DA42',\n",
    "            'HondaJet','Citation III', 'Hawker 800', 'Falcon 200', 'Challenger 601']\n",
    " \n",
    "# loop over the desired specs to plot\n",
    "for plt_name in plt_names:\n",
    "    # extract relevant data\n",
    "    data  = np.empty(len(names))\n",
    "    empty = np.empty(len(names))\n",
    "    item  = 0\n",
    "    for name in names:\n",
    "        data[item] = (data_raw[name][plt_name])\n",
    "        empty[item] = (data_raw[name]['Empty Weight, kg'])\n",
    "        item+=1\n",
    " \n",
    "    # loop over names and pass parameters to plot_bar_comparison to generate plot\n",
    "    for ac_idx in range(0,len(names)):\n",
    "        colors = [color_background] * len(names)\n",
    "        colors[ac_idx] = color_highlight\n",
    "        plot_bar_comparison(names, ac_idx, colors, plt_name)"
   ]
  },
  {
   "cell_type": "code",
   "execution_count": null,
   "metadata": {
    "collapsed": true
   },
   "outputs": [],
   "source": []
  }
 ],
 "metadata": {
  "kernelspec": {
   "display_name": "Python [Root]",
   "language": "python",
   "name": "Python [Root]"
  },
  "language_info": {
   "codemirror_mode": {
    "name": "ipython",
    "version": 3
   },
   "file_extension": ".py",
   "mimetype": "text/x-python",
   "name": "python",
   "nbconvert_exporter": "python",
   "pygments_lexer": "ipython3",
   "version": "3.5.2"
  }
 },
 "nbformat": 4,
 "nbformat_minor": 0
}
